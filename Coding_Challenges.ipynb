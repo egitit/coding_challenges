{
 "cells": [
  {
   "cell_type": "code",
   "execution_count": 1,
   "metadata": {
    "ExecuteTime": {
     "end_time": "2020-07-16T23:48:35.154402Z",
     "start_time": "2020-07-16T23:48:32.768816Z"
    }
   },
   "outputs": [],
   "source": [
    "import pandas as pd\n",
    "import numpy as np\n",
    "import matplotlib.pyplot as plt\n",
    "import seaborn as sns\n",
    "\n",
    "sns.set()\n",
    "%matplotlib inline"
   ]
  },
  {
   "cell_type": "code",
   "execution_count": 2,
   "metadata": {
    "ExecuteTime": {
     "end_time": "2020-07-16T23:48:35.184182Z",
     "start_time": "2020-07-16T23:48:35.157765Z"
    }
   },
   "outputs": [],
   "source": [
    "# Codewars challenge\n",
    "def make_readable(seconds):\n",
    "    '''\n",
    "    Write a function, which takes a non-negative integer (seconds) \n",
    "    as input and returns the time in a human-readable (string) format (HH:MM:SS)\n",
    "\n",
    "    HH = hours, padded to 2 digits, range: 00 - 99\n",
    "    MM = minutes, padded to 2 digits, range: 00 - 59\n",
    "    SS = seconds, padded to 2 digits, range: 00 - 59\n",
    "    The maximum time never exceeds 359999 (99:59:59)\n",
    "    \n",
    "    ex: make_readable(86399)\n",
    "    returns \"23:59:59\"\n",
    "    '''\n",
    "    # First, create hours, minutes, and seconds variables to work with\n",
    "    total = seconds\n",
    "    hours = 0\n",
    "    minutes = 0\n",
    "\n",
    "    # First, address edge case. i.e. seconds cannot be larger than 359999 in order for this function to work\n",
    "    if seconds <= 359999:\n",
    "\n",
    "        # Second, use up the seconds to create as many minutes as possible\n",
    "        while total > 59:\n",
    "            total -= 60\n",
    "            minutes += 1\n",
    "\n",
    "            # Third, if there are more than 60 minutes, create as many hours as possible\n",
    "            if minutes > 59:\n",
    "                minutes -= 60\n",
    "                hours += 1\n",
    "\n",
    "        # Ultimately, return hours, minutes, and seconds in a string format, wwhich INCLUDES 0's for single digits\n",
    "        # i.e. 65 seconds return \"00:01:05\"\n",
    "        return \"{:02d}:{:02d}:{:02d}\".format(hours, minutes, total)\n",
    "    else:\n",
    "        return \"Too many seconds for this to work!\"\n",
    "\n",
    "\n",
    "# Works!"
   ]
  },
  {
   "cell_type": "code",
   "execution_count": 3,
   "metadata": {
    "ExecuteTime": {
     "end_time": "2020-07-16T23:48:35.211271Z",
     "start_time": "2020-07-16T23:48:35.191439Z"
    }
   },
   "outputs": [],
   "source": [
    "# Codewars\n",
    "def find_it(seq):\n",
    "    '''\n",
    "    Given an array, find the integer that appears an odd number of times.\n",
    "\n",
    "    There will always be only *one integer* that appears an odd number of times.\n",
    "    \n",
    "    parameter:\n",
    "    a list of integers\n",
    "    \n",
    "    return\n",
    "    the odd appearing integer\n",
    "    '''\n",
    "    # Establish a dictionary to keep track of occurances\n",
    "    d = {}\n",
    "\n",
    "    # Iterate through the sequence to keep track of numbers\n",
    "    for x in seq:\n",
    "        if x not in d.keys():\n",
    "            d[x] = 1\n",
    "        else:\n",
    "            d[x] += 1\n",
    "\n",
    "    # Check and see which dictionary value is the odd ball out\n",
    "    for key, value in d.items():\n",
    "        if value % 2 != 0:\n",
    "            return key\n",
    "\n",
    "\n",
    "# Works!"
   ]
  },
  {
   "cell_type": "code",
   "execution_count": 4,
   "metadata": {
    "ExecuteTime": {
     "end_time": "2020-07-16T23:48:35.224752Z",
     "start_time": "2020-07-16T23:48:35.214225Z"
    }
   },
   "outputs": [],
   "source": [
    "# LeetCoding\n",
    "def findMedianSortedArrays(nums1, nums2):\n",
    "    '''\n",
    "    Combine two list of integers and find the median.\n",
    "\n",
    "    Parameters:\n",
    "    nums1: list of int (cannot be empty)\n",
    "    nums2: list of int (cannot be empty)\n",
    "    \n",
    "    Returns:\n",
    "    The median of the combined two lists\n",
    "    '''\n",
    "    # Import numpy & stats to sort and find median\n",
    "    import numpy as np\n",
    "    import statistics as st\n",
    "    \n",
    "    # return the median of the combined sorted lists\n",
    "    return st.median(np.sort(nums1 + nums2))\n",
    "\n",
    "# Works!\n",
    "# Runtime: 180 ms, faster than 5.37% of Python3 online submissions for Median of Two Sorted Arrays.\n",
    "# Memory Usage: 29.4 MB, less than 5.15% of Python3 online submissions for Median of Two Sorted Arrays."
   ]
  },
  {
   "cell_type": "code",
   "execution_count": 5,
   "metadata": {
    "ExecuteTime": {
     "end_time": "2020-07-16T23:48:35.256032Z",
     "start_time": "2020-07-16T23:48:35.229158Z"
    }
   },
   "outputs": [
    {
     "data": {
      "text/plain": [
       "77"
      ]
     },
     "execution_count": 5,
     "metadata": {},
     "output_type": "execute_result"
    }
   ],
   "source": [
    "# Codewars\n",
    "def square_sum(numbers):\n",
    "    '''\n",
    "    Complete the square sum function so that it squares each number passed \n",
    "    into it and then sums the results together.\n",
    "    \n",
    "    Parameters:\n",
    "    a list of integers\n",
    "    \n",
    "    Returns:\n",
    "    A sum of all the integers in the list squared\n",
    "    '''\n",
    "#     total = 0\n",
    "#     for x in numbers:\n",
    "#         total += x**2\n",
    "#     return total\n",
    "    # Works!\n",
    "\n",
    "    # Find a faster way?\n",
    "    import numpy as  np\n",
    "    \n",
    "    # Take the sum from list comprehesion\n",
    "    return np.sum([x**2 for x in numbers])\n",
    "\n",
    "# Works!\n",
    "square_sum([4,5,6])"
   ]
  },
  {
   "cell_type": "code",
   "execution_count": 6,
   "metadata": {
    "ExecuteTime": {
     "end_time": "2020-07-16T23:48:35.287980Z",
     "start_time": "2020-07-16T23:48:35.260570Z"
    }
   },
   "outputs": [
    {
     "data": {
      "text/plain": [
       "'yeH yhw tnod uoy yrt dna od a yzarc esrever no siht'"
      ]
     },
     "execution_count": 6,
     "metadata": {},
     "output_type": "execute_result"
    }
   ],
   "source": [
    "# Codewars\n",
    "def reverse_words(text):\n",
    "    '''\n",
    "    Complete the function that accepts a string parameter, \n",
    "    and reverses each word in the string. ALL spaces in the string should be retained.\n",
    "\n",
    "    Parameters:\n",
    "    A string of text\n",
    "\n",
    "    Returns:\n",
    "    The string of text reversed\n",
    "    '''\n",
    "    # Create a list to append reversed words\n",
    "    fin = []\n",
    "    \n",
    "    # Split the text into separate words\n",
    "    words = text.split(\" \")\n",
    "    \n",
    "    # Iterate through the words to check for word length\n",
    "    for word in words:\n",
    "        \n",
    "        # If the length of the word is greater than 1, reverse the word and add it to the fin list\n",
    "        if len(word) > 1:\n",
    "            fin.append(word[::-1])\n",
    "            \n",
    "        # If the length of the word is 1, leave it alone and add it to the fin list\n",
    "        else:\n",
    "            fin.append(word)\n",
    "            \n",
    "    # Return the fin list joined together with spaces\n",
    "    return \" \".join(fin)\n",
    "# Works!    \n",
    "reverse_words(\"Hey why dont you try and do a crazy reverse on this\")"
   ]
  },
  {
   "cell_type": "code",
   "execution_count": 7,
   "metadata": {
    "ExecuteTime": {
     "end_time": "2020-07-16T23:48:35.338079Z",
     "start_time": "2020-07-16T23:48:35.291799Z"
    },
    "scrolled": true
   },
   "outputs": [
    {
     "data": {
      "text/plain": [
       "4613732"
      ]
     },
     "execution_count": 7,
     "metadata": {},
     "output_type": "execute_result"
    }
   ],
   "source": [
    "# ProjectEuler\n",
    "\n",
    "def Even_Fibonacci_numbers(end_num):\n",
    "    '''\n",
    "    By starting with 1 and 2, \n",
    "    each new term in the Fibonacci sequence is generated by adding the previous two terms.\n",
    "    \n",
    "    Return:\n",
    "    The sum of the even numbers\n",
    "    '''\n",
    "    # Fib number starts with a 1 & 2\n",
    "    start = [1, 2]\n",
    "    \n",
    "    # While loop to create a stopping point\n",
    "    while start[-1] < end_num:\n",
    "        \n",
    "        # Create a variable that is the addition of the last two spots\n",
    "        _ = start[-1] + start[-2]\n",
    "        \n",
    "        # Append the new value to the end of the list\n",
    "        start.append(_)\n",
    "    \n",
    "    # Start an accumulator\n",
    "    total = 0\n",
    "    \n",
    "    # Iterate through the new Fibonacci numbers list\n",
    "    for x in start:\n",
    "        \n",
    "        # if the number is even, add it to total\n",
    "        if x%2==0:\n",
    "            total += x\n",
    "    \n",
    "    # Return the sum of all the even numbers from the Fibonacci list\n",
    "    return total\n",
    "\n",
    "\n",
    "Even_Fibonacci_numbers(4000000)\n",
    "#Worked!"
   ]
  },
  {
   "cell_type": "code",
   "execution_count": 8,
   "metadata": {
    "ExecuteTime": {
     "end_time": "2020-07-16T23:48:35.360022Z",
     "start_time": "2020-07-16T23:48:35.345765Z"
    }
   },
   "outputs": [],
   "source": [
    "# CodeWars\n",
    "def descending_order(num):\n",
    "    '''\n",
    "    Your task is to make a function that can take any non-negative integer as a argument and \n",
    "    return it with its digits in descending order. Essentially, \n",
    "    rearrange the digits to create the highest possible number.\n",
    "    \n",
    "    i.e.\n",
    "    123456789 = 987654321\n",
    "    '''\n",
    "    # Create a new list of integers (that are strings)\n",
    "    num = [str(x) for x in str(num)]\n",
    "    \n",
    "    # Sort & reverse the numbers in the list\n",
    "    num.sort(reverse=True)\n",
    "    \n",
    "    # Create new fin variable that will join all the strings together\n",
    "    fin = \"\".join(num)\n",
    "    \n",
    "    # Return the integer from the fin string\n",
    "    return int(fin)\n",
    "\n",
    "#Works!"
   ]
  },
  {
   "cell_type": "code",
   "execution_count": 9,
   "metadata": {
    "ExecuteTime": {
     "end_time": "2020-07-16T23:48:35.408565Z",
     "start_time": "2020-07-16T23:48:35.384052Z"
    }
   },
   "outputs": [],
   "source": [
    "# LeetCoding\n",
    "\n",
    "def addDigits(num):\n",
    "    '''\n",
    "    Given a non-negative integer num, repeatedly add all its digits until the result has only one digit.\n",
    "    \n",
    "    Parameter:\n",
    "    non-negative integer\n",
    "    \n",
    "    Returns:\n",
    "    A single digit integer\n",
    "    '''\n",
    "    # if num >= 10, process repeats\n",
    "    while num >= 10:\n",
    "        \n",
    "        # Do a modulo & and floor divide in order to get the last two digits\n",
    "        single = num%10\n",
    "        _next = num //10\n",
    "        \n",
    "        # Add the two to get the new number\n",
    "        num = single + _next\n",
    "    \n",
    "    # Return the final single digit number\n",
    "    return num\n",
    "\n",
    "# Works!\n",
    "# Runtime: 28 ms, faster than 87.84% of Python3 online submissions for Add Digits.\n",
    "# Memory Usage: 13.6 MB, less than 96.00% of Python3 online submissions for Add Digits."
   ]
  },
  {
   "cell_type": "code",
   "execution_count": 10,
   "metadata": {
    "ExecuteTime": {
     "end_time": "2020-07-16T23:48:35.442378Z",
     "start_time": "2020-07-16T23:48:35.415838Z"
    }
   },
   "outputs": [],
   "source": [
    "# LeetCoding\n",
    "def judgeSquareSum(num):\n",
    "    '''\n",
    "    Given a non-negative integer num, \n",
    "    your task is to decide whether there're two integers a and b such that a2 + b2 = c.\n",
    "\n",
    "    Parameter:\n",
    "    An integer\n",
    "\n",
    "    Returns:\n",
    "    True or False - depending if theres two values squared that == the num \n",
    "    '''\n",
    "    # Import numpy to create the number range to work with.\n",
    "    import numpy as np\n",
    "    nums = np.arange(1,num+1)\n",
    "    \n",
    "    # Create a list to add numbers to, explained on the line below...\n",
    "    lst = []\n",
    "    \n",
    "    # create an X & Y variable to iterate through. If either of the two squared add up to the given number\n",
    "    # Or if 1 of the numbers squared adds up to the numbers -- i.e. X**2 + 0**2 = number\n",
    "    # Add one of the numbers to the lst above\n",
    "    for x in nums:\n",
    "        for y in nums:\n",
    "            if (x**2 + y**2 == num) | (x**2 == num):\n",
    "                lst.append(x)\n",
    "    \n",
    "    # If the length of the list is greater than 0 -- return True, else return False \n",
    "    if len(lst)>0:\n",
    "        return True\n",
    "    elif num == 0:\n",
    "        return True\n",
    "    else:\n",
    "        return False\n",
    "    \n",
    "# Passed most test but is timing out on 10,000..."
   ]
  },
  {
   "cell_type": "code",
   "execution_count": 11,
   "metadata": {
    "ExecuteTime": {
     "end_time": "2020-07-16T23:48:35.461437Z",
     "start_time": "2020-07-16T23:48:35.448189Z"
    }
   },
   "outputs": [],
   "source": [
    "# LeetCoding\n",
    "\n",
    "def addStrings(num1, num2):\n",
    "    '''\n",
    "    Given two non-negative integers num1 and num2 represented as string, return the sum of num1 and num2.\n",
    "    \n",
    "    Returns:\n",
    "    A new string with the two added up \n",
    "    \n",
    "    Note:\n",
    "\n",
    "    The length of both num1 and num2 is < 5100.\n",
    "    Both num1 and num2 contains only digits 0-9.\n",
    "    Both num1 and num2 does not contain any leading zero.\n",
    "    You must not use any built-in BigInteger library or convert the inputs to integer directly.\n",
    "    \n",
    "    My approach:\n",
    "    Since we can not change the numbers to integers directly,\n",
    "    change them to floats, add them together,\n",
    "    THEN change that float to an integer to remove the .0,\n",
    "    Finally, return the summation as a string -- therefore not changing num1 & num2 directly to integers\n",
    "    '''\n",
    "    return str(int(float(num1) + float(num2)))\n",
    "\n",
    "# Should work but it's 2 off the given answer for some reason..."
   ]
  },
  {
   "cell_type": "code",
   "execution_count": 12,
   "metadata": {
    "ExecuteTime": {
     "end_time": "2020-07-16T23:48:35.474792Z",
     "start_time": "2020-07-16T23:48:35.465568Z"
    }
   },
   "outputs": [],
   "source": [
    "num1 = \"9333852702227987\"\n",
    "num2 = \"85731737104263\""
   ]
  },
  {
   "cell_type": "code",
   "execution_count": 13,
   "metadata": {
    "ExecuteTime": {
     "end_time": "2020-07-16T23:48:35.496009Z",
     "start_time": "2020-07-16T23:48:35.479696Z"
    }
   },
   "outputs": [
    {
     "data": {
      "text/plain": [
       "9419584439332250"
      ]
     },
     "execution_count": 13,
     "metadata": {},
     "output_type": "execute_result"
    }
   ],
   "source": [
    "9333852702227987 + 85731737104263"
   ]
  },
  {
   "cell_type": "code",
   "execution_count": 14,
   "metadata": {
    "ExecuteTime": {
     "end_time": "2020-07-16T23:48:35.521491Z",
     "start_time": "2020-07-16T23:48:35.499237Z"
    }
   },
   "outputs": [
    {
     "data": {
      "text/plain": [
       "9419584439332252.0"
      ]
     },
     "execution_count": 14,
     "metadata": {},
     "output_type": "execute_result"
    }
   ],
   "source": [
    "float(9333852702227987) + float(85731737104263)"
   ]
  },
  {
   "cell_type": "code",
   "execution_count": 15,
   "metadata": {
    "ExecuteTime": {
     "end_time": "2020-07-16T23:48:35.540289Z",
     "start_time": "2020-07-16T23:48:35.528140Z"
    }
   },
   "outputs": [
    {
     "data": {
      "text/plain": [
       "'9419584439332252'"
      ]
     },
     "execution_count": 15,
     "metadata": {},
     "output_type": "execute_result"
    }
   ],
   "source": [
    "addStrings(num1, num2)"
   ]
  },
  {
   "cell_type": "code",
   "execution_count": 16,
   "metadata": {
    "ExecuteTime": {
     "end_time": "2020-07-16T23:48:35.557823Z",
     "start_time": "2020-07-16T23:48:35.544242Z"
    }
   },
   "outputs": [],
   "source": [
    "# LeetCoding\n",
    "def twoSum(nums, target):\n",
    "    '''\n",
    "    Given an array of integers, return indices of the two numbers such that they add up to a specific target.\n",
    "\n",
    "    You may assume that each input would have exactly one solution, and you may not use the same element twice.\n",
    "    \n",
    "    Parameters:\n",
    "    nums - list of integers\n",
    "    target - integer where two values from nums add to this value\n",
    "    '''\n",
    "    # Create a dictionary to track key, value paris\n",
    "    d = {}\n",
    "    \n",
    "    # Enumerate the number values in the list\n",
    "    for idx, num in enumerate(nums):\n",
    "        \n",
    "        # Creating a y variable to solve / find in the dictionary\n",
    "        y = target - num\n",
    "        \n",
    "        # add y (key) to the dictionary with it's index (value)\n",
    "        if y not in d:\n",
    "            d[num] = idx\n",
    "        \n",
    "        # Else, return the index value of y, and the idx -- the two values that add up to target\n",
    "        else:\n",
    "            return d[y], idx\n",
    "\n",
    "# Works!\n",
    "# Runtime: 56 ms, faster than 54.65% of Python3 online submissions for Two Sum.\n",
    "# Memory Usage: 15.3 MB, less than 27.48% of Python3 online submissions for Two Sum."
   ]
  },
  {
   "cell_type": "code",
   "execution_count": 17,
   "metadata": {
    "ExecuteTime": {
     "end_time": "2020-07-16T23:48:35.580057Z",
     "start_time": "2020-07-16T23:48:35.564355Z"
    }
   },
   "outputs": [],
   "source": [
    "# LeetCoding\n",
    "def reverse(x):\n",
    "    '''\n",
    "    Given a 32-bit signed integer, reverse digits of an integer.\n",
    "    \n",
    "    i.e.\n",
    "    123 = 321\n",
    "    -123 = -321\n",
    "    120 = 21\n",
    "    '''\n",
    "    # Address number range [−2**31,  2**31 − 1]\n",
    "    if x < -2**31:\n",
    "        return 0\n",
    "    \n",
    "    if x > (2**31) - 1:\n",
    "        return 0\n",
    "    \n",
    "    # Create a string of the given integer\n",
    "    x = str(x)\n",
    "    \n",
    "    # Create a list of the integers turned to strings in order to reverse them\n",
    "    digits = [num for num in x]\n",
    "    \n",
    "    # The final string to return\n",
    "    fin = \"\"\n",
    "    \n",
    "    # Need to address the negative symbol, shoul it pop up\n",
    "    for num in digits:\n",
    "        if (num == \"-\") | (num == \"+\"):\n",
    "            fin = num\n",
    "            digits.remove(num)\n",
    "    \n",
    "    # Now that the negative number has been removed and its placed at the begginging of the final string,\n",
    "    # Reverse the numbers in digits\n",
    "    digits = digits[::-1]\n",
    "    \n",
    "    # Address if the leading number is a 0 -- if it is, remove it\n",
    "    if digits[0] == \"0\":\n",
    "        digits.pop(0)\n",
    "\n",
    "    # Now iterate through the reversed list and add it to the final string\n",
    "    for x in digits:\n",
    "        fin += x\n",
    "    \n",
    "    fin = int(fin)\n",
    "    \n",
    "    # Return the final string as an integer and done!\n",
    "    return fin\n",
    "\n",
    "# Seems to be passing the tests above but leetcoding is having an issue with the submission...\n",
    "\n",
    "# Trying to troubleshoot:\n",
    "# Line 34: ValueError: invalid literal for int() with base 10: ''"
   ]
  },
  {
   "cell_type": "code",
   "execution_count": 18,
   "metadata": {
    "ExecuteTime": {
     "end_time": "2020-07-16T23:48:35.594736Z",
     "start_time": "2020-07-16T23:48:35.585268Z"
    }
   },
   "outputs": [
    {
     "data": {
      "text/plain": [
       "-123"
      ]
     },
     "execution_count": 18,
     "metadata": {},
     "output_type": "execute_result"
    }
   ],
   "source": [
    "reverse(-321)"
   ]
  },
  {
   "cell_type": "code",
   "execution_count": 19,
   "metadata": {
    "ExecuteTime": {
     "end_time": "2020-07-16T23:48:35.605007Z",
     "start_time": "2020-07-16T23:48:35.597966Z"
    }
   },
   "outputs": [
    {
     "data": {
      "text/plain": [
       "21"
      ]
     },
     "execution_count": 19,
     "metadata": {},
     "output_type": "execute_result"
    }
   ],
   "source": [
    "reverse(120)"
   ]
  },
  {
   "cell_type": "code",
   "execution_count": 20,
   "metadata": {
    "ExecuteTime": {
     "end_time": "2020-07-16T23:48:35.621066Z",
     "start_time": "2020-07-16T23:48:35.608562Z"
    }
   },
   "outputs": [],
   "source": [
    "# LeetCoding\n",
    "\n",
    "def myAtoi(s):\n",
    "    '''\n",
    "    Implement atoi which converts a string to an integer.\n",
    "    \n",
    "    must be within the range [−2**31,  2**31 − 1]\n",
    "    if its out of range, return the min/max -- i.e. -2147483648 or 2147483647\n",
    "    '''\n",
    "    skip_lst = [\"-\", \"+\"]\n",
    "    \n",
    "    if s.isdigit() == True:\n",
    "        return int(s)\n",
    "    \n",
    "    \n",
    "# Work in progress...\n",
    "    "
   ]
  },
  {
   "cell_type": "code",
   "execution_count": 21,
   "metadata": {},
   "outputs": [],
   "source": [
    "ex1 = \"42\"\n",
    "# 42\n",
    "ex2 = \"   -42\"\n",
    "# -42\n",
    "ex3 = \"4193 with words\"\n",
    "#4193\n",
    "ex4 = \"words and 987\"\n",
    "# 0\n",
    "ex5 = \"-91283472332\"\n",
    "# -2147483648\n",
    "ex6 = \"     -42   word\"\n",
    "# -42\n",
    "\n",
    "# The number \"-91283472332\" is out of the range of a 32-bit signed integer.\n",
    "# Thefore INT_MIN (−2**31) is returned --- -2147483648"
   ]
  },
  {
   "cell_type": "code",
   "execution_count": 42,
   "metadata": {},
   "outputs": [
    {
     "data": {
      "text/plain": [
       "False"
      ]
     },
     "execution_count": 42,
     "metadata": {},
     "output_type": "execute_result"
    }
   ],
   "source": [
    "# LeetCoding\n",
    "\n",
    "def isPalindrome(x):\n",
    "    '''\n",
    "    Parameter:\n",
    "    x - an integer that can be positive or negative\n",
    "    \n",
    "    Returns:\n",
    "    True/False if the number is a palindrome or not\n",
    "    '''\n",
    "    return str(x) == str(x)[::-1]\n",
    "# Works!\n",
    "# Runtime: 44 ms, faster than 99.08% of Python3 online submissions for Palindrome Number.\n",
    "# Memory Usage: 14 MB, less than 13.99% of Python3 online submissions for Palindrome Number.\n",
    "\n",
    "isPalindrome(101010)"
   ]
  },
  {
   "cell_type": "code",
   "execution_count": null,
   "metadata": {},
   "outputs": [],
   "source": [
    "# LeetCoding\n",
    "\n",
    "def isMatch(s, p):\n",
    "    '''\n",
    "    Parameters:\n",
    "    s - a string\n",
    "    p - a pattern\n",
    "    \n",
    "    \".\" - Matches any single character\n",
    "    \"*\" - Matches zero or more of the preceding element\n",
    "    \n",
    "    Returns:\n",
    "    True or False\n",
    "    \n",
    "    Note:\n",
    "    s could be empty and contains only lowercase letters a-z.\n",
    "    p could be empty and contains only lowercase letters a-z, and characters like . or *.\n",
    "    '''\n",
    "    "
   ]
  }
 ],
 "metadata": {
  "kernelspec": {
   "display_name": "Python 3",
   "language": "python",
   "name": "python3"
  },
  "language_info": {
   "codemirror_mode": {
    "name": "ipython",
    "version": 3
   },
   "file_extension": ".py",
   "mimetype": "text/x-python",
   "name": "python",
   "nbconvert_exporter": "python",
   "pygments_lexer": "ipython3",
   "version": "3.8.3"
  }
 },
 "nbformat": 4,
 "nbformat_minor": 4
}
