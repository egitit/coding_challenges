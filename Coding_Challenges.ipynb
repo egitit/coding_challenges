{
 "cells": [
  {
   "cell_type": "code",
   "execution_count": 1,
   "metadata": {
    "ExecuteTime": {
     "end_time": "2020-07-02T21:44:36.753695Z",
     "start_time": "2020-07-02T21:44:33.945034Z"
    }
   },
   "outputs": [],
   "source": [
    "import pandas as pd\n",
    "import numpy as np\n",
    "import matplotlib.pyplot as plt\n",
    "import seaborn as sns\n",
    "sns.set()\n",
    "%matplotlib inline"
   ]
  },
  {
   "cell_type": "code",
   "execution_count": 2,
   "metadata": {
    "ExecuteTime": {
     "end_time": "2020-07-02T21:44:36.771107Z",
     "start_time": "2020-07-02T21:44:36.756224Z"
    }
   },
   "outputs": [],
   "source": [
    "# Codewars challenge\n",
    "def make_readable(seconds):\n",
    "    '''\n",
    "    Write a function, which takes a non-negative integer (seconds) \n",
    "    as input and returns the time in a human-readable (string) format (HH:MM:SS)\n",
    "\n",
    "    HH = hours, padded to 2 digits, range: 00 - 99\n",
    "    MM = minutes, padded to 2 digits, range: 00 - 59\n",
    "    SS = seconds, padded to 2 digits, range: 00 - 59\n",
    "    The maximum time never exceeds 359999 (99:59:59)\n",
    "    \n",
    "    ex: make_readable(86399)\n",
    "    returns \"23:59:59\"\n",
    "    '''\n",
    "    # First, create hours, minutes, and seconds variables to work with\n",
    "    total = seconds\n",
    "    hours = 0\n",
    "    minutes = 0\n",
    "    \n",
    "    # First, address edge case. i.e. seconds cannot be larger than 359999 in order for this function to work\n",
    "    if seconds <= 359999:\n",
    "        \n",
    "        # Second, use up the seconds to create as many minutes as possible\n",
    "        while total > 59:\n",
    "            total -= 60\n",
    "            minutes += 1\n",
    "            \n",
    "            # Third, if there are more than 60 minutes, create as many hours as possible\n",
    "            if minutes > 59:\n",
    "                minutes -= 60\n",
    "                hours += 1\n",
    "        \n",
    "        # Ultimately, return hours, minutes, and seconds in a string format, wwhich INCLUDES 0's for single digits\n",
    "        # i.e. 65 seconds return \"00:01:05\"\n",
    "        return \"{:02d}:{:02d}:{:02d}\".format(hours, minutes, total)\n",
    "    else:\n",
    "        return \"Too many seconds for this to work!\"\n",
    "    \n",
    "# Works!"
   ]
  },
  {
   "cell_type": "code",
   "execution_count": 259,
   "metadata": {
    "ExecuteTime": {
     "end_time": "2020-07-03T17:48:47.311418Z",
     "start_time": "2020-07-03T17:48:47.304933Z"
    },
    "code_folding": [
     0
    ]
   },
   "outputs": [],
   "source": [
    "# LeetCoding\n",
    "def two_sum(nums, target):\n",
    "    '''\n",
    "    Given an array of integers, return indices of the two numbers such that they add up to a specific target.\n",
    "\n",
    "    You may assume that each input would have exactly one solution, and you may not use the same element twice.\n",
    "    \n",
    "    parameters:\n",
    "    array - a list of integers\n",
    "    target - the value to add up to\n",
    "    '''\n",
    "    d = {}\n",
    "    for idx, num in enumerate(nums):\n",
    "        y = target - num\n",
    "        if y not in d:\n",
    "            d[num] = idx\n",
    "        else:\n",
    "            return d[num], idx\n",
    "\n",
    "    \n",
    "#     for x in d.keys():\n",
    "#         y = target - x\n",
    "#         if y in d.keys() and (x != y):\n",
    "#             return d[x], d[y]\n",
    "#         else:\n",
    "#             return \"shit don't work\"\n",
    "    \n",
    "#     for x, value in d.items():\n",
    "#         for y, value2 in d.items():\n",
    "#             if (d[x] + d[y] == target) & (x != y):\n",
    "#                 return [x, y]\n",
    "# Works, but won't register on Leetcode... \n"
   ]
  },
  {
   "cell_type": "code",
   "execution_count": 4,
   "metadata": {
    "ExecuteTime": {
     "end_time": "2020-07-02T21:44:36.799630Z",
     "start_time": "2020-07-02T21:44:36.788835Z"
    }
   },
   "outputs": [],
   "source": [
    "# Codewars\n",
    "def find_it(seq):\n",
    "    '''\n",
    "    Given an array, find the integer that appears an odd number of times.\n",
    "\n",
    "    There will always be only *one integer* that appears an odd number of times.\n",
    "    \n",
    "    parameter:\n",
    "    a list of integers\n",
    "    \n",
    "    return\n",
    "    the odd appearing integer\n",
    "    '''\n",
    "    d = {}\n",
    "    for x in seq:\n",
    "        if x not in d.keys():\n",
    "            d[x] = 1\n",
    "        else:\n",
    "            d[x] += 1\n",
    "    \n",
    "    for key, value in d.items():\n",
    "        if value % 2 != 0:\n",
    "            return key\n",
    "# Works!"
   ]
  },
  {
   "cell_type": "code",
   "execution_count": 5,
   "metadata": {
    "ExecuteTime": {
     "end_time": "2020-07-02T21:44:36.810349Z",
     "start_time": "2020-07-02T21:44:36.802398Z"
    }
   },
   "outputs": [],
   "source": [
    "# LeetCoding\n",
    "def findMedianSortedArrays(nums1, nums2):\n",
    "    '''\n",
    "    There are two sorted arrays nums1 and nums2 of size m and n respectively.\n",
    "\n",
    "    Parameters:\n",
    "    nums1: list of int (cannot be empty)\n",
    "    nums2: list of int (cannot be empty)\n",
    "    '''\n",
    "    import numpy as np\n",
    "    import statistics as st\n",
    "    x = nums1 + nums2\n",
    "    x = np.sort(x, kind='quicksort')\n",
    "    return st.median(x)\n",
    "\n",
    "# Works!\n",
    "# Runtime: 180 ms, faster than 5.37% of Python3 online submissions for Median of Two Sorted Arrays.\n",
    "# Memory Usage: 29.4 MB, less than 5.15% of Python3 online submissions for Median of Two Sorted Arrays."
   ]
  },
  {
   "cell_type": "code",
   "execution_count": 6,
   "metadata": {
    "ExecuteTime": {
     "end_time": "2020-07-02T21:44:36.831801Z",
     "start_time": "2020-07-02T21:44:36.816156Z"
    }
   },
   "outputs": [
    {
     "data": {
      "text/plain": [
       "29"
      ]
     },
     "execution_count": 6,
     "metadata": {},
     "output_type": "execute_result"
    }
   ],
   "source": [
    "# Codewars\n",
    "def square_sum(numbers):\n",
    "    '''\n",
    "    Complete the square sum function so that it squares each number passed \n",
    "    into it and then sums the results together.\n",
    "    \n",
    "    Parameters:\n",
    "    a list of integers\n",
    "    \n",
    "    Returns:\n",
    "    A sum of all the integers in the list squared\n",
    "    '''\n",
    "    total = 0\n",
    "    for x in numbers:\n",
    "        total += x**2\n",
    "    return total\n",
    "\n",
    "# Works!\n",
    "square_sum([2,3,4])"
   ]
  },
  {
   "cell_type": "code",
   "execution_count": 7,
   "metadata": {
    "ExecuteTime": {
     "end_time": "2020-07-02T21:44:36.854301Z",
     "start_time": "2020-07-02T21:44:36.836762Z"
    }
   },
   "outputs": [
    {
     "data": {
      "text/plain": [
       "'yeH yhw tnod uoy yrt dna od a yzarc esrever no siht'"
      ]
     },
     "execution_count": 7,
     "metadata": {},
     "output_type": "execute_result"
    }
   ],
   "source": [
    "# Codewars\n",
    "def reverse_words(text):\n",
    "    '''\n",
    "    Complete the function that accepts a string parameter, \n",
    "    and reverses each word in the string. ALL spaces in the string should be retained.\n",
    "\n",
    "    Parameters:\n",
    "    A string of text\n",
    "\n",
    "    Returns:\n",
    "    The string of text reversed\n",
    "    '''\n",
    "    # Create a list to append reversed words\n",
    "    fin = []\n",
    "    \n",
    "    # Split the text into separate words\n",
    "    words = text.split(\" \")\n",
    "    \n",
    "    # Iterate through the words to check for word length\n",
    "    for word in words:\n",
    "        \n",
    "        # If the length of the word is greater than 1, reverse the word and add it to the fin list\n",
    "        if len(word) > 1:\n",
    "            fin.append(word[::-1])\n",
    "            \n",
    "        # If the length of the word is 1, leave it alone and add it to the fin list\n",
    "        else:\n",
    "            fin.append(word)\n",
    "            \n",
    "    # Return the fin list joined together with spaces\n",
    "    return \" \".join(fin)\n",
    "# Works!    \n",
    "reverse_words(\"Hey why dont you try and do a crazy reverse on this\")"
   ]
  },
  {
   "cell_type": "code",
   "execution_count": 8,
   "metadata": {
    "ExecuteTime": {
     "end_time": "2020-07-02T21:44:36.879953Z",
     "start_time": "2020-07-02T21:44:36.865860Z"
    },
    "scrolled": true
   },
   "outputs": [
    {
     "data": {
      "text/plain": [
       "4613732"
      ]
     },
     "execution_count": 8,
     "metadata": {},
     "output_type": "execute_result"
    }
   ],
   "source": [
    "# ProjectEuler\n",
    "\n",
    "def Even_Fibonacci_numbers():\n",
    "    '''\n",
    "    By starting with 1 and 2, \n",
    "    each new term in the Fibonacci sequence is generated by adding the previous two terms.\n",
    "    '''\n",
    "    start = [1, 2]\n",
    "    while start[-1] < 4000000:\n",
    "        _ = start[-1] + start[-2]\n",
    "        start.append(_)\n",
    "    total = 0\n",
    "    for x in start:\n",
    "        if x%2==0:\n",
    "            total += x\n",
    "    return total\n",
    "Even_Fibonacci_numbers()"
   ]
  },
  {
   "cell_type": "code",
   "execution_count": 291,
   "metadata": {
    "ExecuteTime": {
     "end_time": "2020-07-03T18:26:34.987138Z",
     "start_time": "2020-07-03T18:26:34.979570Z"
    }
   },
   "outputs": [],
   "source": [
    "# LeetCoding\n",
    "def plusOne(digits):\n",
    "    '''\n",
    "    Parameter:\n",
    "    Digits - a non-emtpy array of positive integers. Add plus 1 to the last integer,\n",
    "    and last integer must be single digit\n",
    "    \n",
    "    Return:\n",
    "    an array of integers with the last one being single\n",
    "    '''\n",
    "    digits[-1] = digits[-1]+1\n",
    "    if digits[-1] >= 10:\n",
    "        second = digits[-1]//10\n",
    "        last = digits[-1]%10\n",
    "        digits.pop()\n",
    "        digits.append(second)\n",
    "        digits.append(last)\n",
    "        return digits\n",
    "    else:\n",
    "        return digits"
   ]
  },
  {
   "cell_type": "code",
   "execution_count": null,
   "metadata": {},
   "outputs": [],
   "source": []
  }
 ],
 "metadata": {
  "kernelspec": {
   "display_name": "Python 3",
   "language": "python",
   "name": "python3"
  },
  "language_info": {
   "codemirror_mode": {
    "name": "ipython",
    "version": 3
   },
   "file_extension": ".py",
   "mimetype": "text/x-python",
   "name": "python",
   "nbconvert_exporter": "python",
   "pygments_lexer": "ipython3",
   "version": "3.7.7"
  }
 },
 "nbformat": 4,
 "nbformat_minor": 4
}
