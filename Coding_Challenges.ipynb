{
 "cells": [
  {
   "cell_type": "code",
   "execution_count": 2,
   "metadata": {
    "ExecuteTime": {
     "end_time": "2020-06-15T18:10:56.625935Z",
     "start_time": "2020-06-15T18:10:55.060065Z"
    }
   },
   "outputs": [],
   "source": [
    "import pandas as pd\n",
    "import numpy as np\n",
    "import matplotlib.pyplot as plt\n",
    "import seaborn as sns\n",
    "sns.set()\n",
    "%matplotlib inline"
   ]
  },
  {
   "cell_type": "code",
   "execution_count": 91,
   "metadata": {
    "ExecuteTime": {
     "end_time": "2020-06-15T19:28:51.665470Z",
     "start_time": "2020-06-15T19:28:51.654883Z"
    }
   },
   "outputs": [],
   "source": [
    "def make_readable(seconds):\n",
    "    '''\n",
    "    Write a function, which takes a non-negative integer (seconds) \n",
    "    as input and returns the time in a human-readable (string) format (HH:MM:SS)\n",
    "\n",
    "    HH = hours, padded to 2 digits, range: 00 - 99\n",
    "    MM = minutes, padded to 2 digits, range: 00 - 59\n",
    "    SS = seconds, padded to 2 digits, range: 00 - 59\n",
    "    The maximum time never exceeds 359999 (99:59:59)\n",
    "    \n",
    "    ex: make_readable(86399)\n",
    "    returns \"23:59:59\"\n",
    "    '''\n",
    "    # First, create hours, minutes, and seconds variables to work with\n",
    "    total = seconds\n",
    "    hours = 0\n",
    "    minutes = 0\n",
    "    \n",
    "    # First, address edge case. i.e. seconds cannot be larger than 359999 in order for this function to work\n",
    "    if seconds <= 359999:\n",
    "        \n",
    "        # Second, use up the seconds to create as many minutes as possible\n",
    "        while total > 59:\n",
    "            total -= 60\n",
    "            minutes += 1\n",
    "            \n",
    "            # Third, if there are more than 60 minutes, create as many hours as possible\n",
    "            if minutes > 59:\n",
    "                minutes -= 60\n",
    "                hours += 1\n",
    "        \n",
    "        # Ultimately, return hours, minutes, and seconds in a string format, wwhich INCLUDES 0's for single digits\n",
    "        # i.e. 65 seconds return \"00:01:05\"\n",
    "        return \"{:02d}:{:02d}:{:02d}\".format(hours, minutes, total)\n",
    "    else:\n",
    "        return \"Too many seconds for this to work!\"\n",
    "    \n",
    "# Passed all tests"
   ]
  },
  {
   "cell_type": "code",
   "execution_count": null,
   "metadata": {},
   "outputs": [],
   "source": []
  }
 ],
 "metadata": {
  "kernelspec": {
   "display_name": "Python 3",
   "language": "python",
   "name": "python3"
  },
  "language_info": {
   "codemirror_mode": {
    "name": "ipython",
    "version": 3
   },
   "file_extension": ".py",
   "mimetype": "text/x-python",
   "name": "python",
   "nbconvert_exporter": "python",
   "pygments_lexer": "ipython3",
   "version": "3.7.7"
  }
 },
 "nbformat": 4,
 "nbformat_minor": 4
}
