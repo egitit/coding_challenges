{
 "cells": [
  {
   "cell_type": "code",
   "execution_count": 1,
   "metadata": {
    "ExecuteTime": {
     "end_time": "2020-07-15T20:50:31.508528Z",
     "start_time": "2020-07-15T20:50:29.595931Z"
    }
   },
   "outputs": [],
   "source": [
    "import pandas as pd\n",
    "import numpy as np\n",
    "import matplotlib.pyplot as plt\n",
    "import seaborn as sns\n",
    "sns.set()\n",
    "%matplotlib inline"
   ]
  },
  {
   "cell_type": "code",
   "execution_count": 2,
   "metadata": {
    "ExecuteTime": {
     "end_time": "2020-07-15T20:50:31.521034Z",
     "start_time": "2020-07-15T20:50:31.511151Z"
    }
   },
   "outputs": [],
   "source": [
    "# Codewars challenge\n",
    "def make_readable(seconds):\n",
    "    '''\n",
    "    Write a function, which takes a non-negative integer (seconds) \n",
    "    as input and returns the time in a human-readable (string) format (HH:MM:SS)\n",
    "\n",
    "    HH = hours, padded to 2 digits, range: 00 - 99\n",
    "    MM = minutes, padded to 2 digits, range: 00 - 59\n",
    "    SS = seconds, padded to 2 digits, range: 00 - 59\n",
    "    The maximum time never exceeds 359999 (99:59:59)\n",
    "    \n",
    "    ex: make_readable(86399)\n",
    "    returns \"23:59:59\"\n",
    "    '''\n",
    "    # First, create hours, minutes, and seconds variables to work with\n",
    "    total = seconds\n",
    "    hours = 0\n",
    "    minutes = 0\n",
    "\n",
    "    # First, address edge case. i.e. seconds cannot be larger than 359999 in order for this function to work\n",
    "    if seconds <= 359999:\n",
    "\n",
    "        # Second, use up the seconds to create as many minutes as possible\n",
    "        while total > 59:\n",
    "            total -= 60\n",
    "            minutes += 1\n",
    "\n",
    "            # Third, if there are more than 60 minutes, create as many hours as possible\n",
    "            if minutes > 59:\n",
    "                minutes -= 60\n",
    "                hours += 1\n",
    "\n",
    "        # Ultimately, return hours, minutes, and seconds in a string format, wwhich INCLUDES 0's for single digits\n",
    "        # i.e. 65 seconds return \"00:01:05\"\n",
    "        return \"{:02d}:{:02d}:{:02d}\".format(hours, minutes, total)\n",
    "    else:\n",
    "        return \"Too many seconds for this to work!\"\n",
    "\n",
    "\n",
    "# Works!"
   ]
  },
  {
   "cell_type": "code",
   "execution_count": 3,
   "metadata": {
    "ExecuteTime": {
     "end_time": "2020-07-15T20:50:31.532745Z",
     "start_time": "2020-07-15T20:50:31.524891Z"
    },
    "code_folding": [
     0
    ]
   },
   "outputs": [],
   "source": [
    "# LeetCoding\n",
    "def two_sum(nums, target):\n",
    "    '''\n",
    "    Given an array of integers, return indices of the two numbers such that they add up to a specific target.\n",
    "\n",
    "    You may assume that each input would have exactly one solution, and you may not use the same element twice.\n",
    "    \n",
    "    parameters:\n",
    "    array - a list of integers\n",
    "    target - the value to add up to\n",
    "    '''\n",
    "    d = {}\n",
    "    for idx, num in enumerate(nums):\n",
    "        y = target - num\n",
    "        if y not in d:\n",
    "            d[num] = idx\n",
    "        else:\n",
    "            return d[num], idx\n",
    "\n",
    "    \n",
    "#     for x in d.keys():\n",
    "#         y = target - x\n",
    "#         if y in d.keys() and (x != y):\n",
    "#             return d[x], d[y]\n",
    "#         else:\n",
    "#             return \"shit don't work\"\n",
    "    \n",
    "#     for x, value in d.items():\n",
    "#         for y, value2 in d.items():\n",
    "#             if (d[x] + d[y] == target) & (x != y):\n",
    "#                 return [x, y]\n",
    "# Works, but won't register on Leetcode... \n"
   ]
  },
  {
   "cell_type": "code",
   "execution_count": 4,
   "metadata": {
    "ExecuteTime": {
     "end_time": "2020-07-15T20:50:31.550179Z",
     "start_time": "2020-07-15T20:50:31.537032Z"
    }
   },
   "outputs": [],
   "source": [
    "# Codewars\n",
    "def find_it(seq):\n",
    "    '''\n",
    "    Given an array, find the integer that appears an odd number of times.\n",
    "\n",
    "    There will always be only *one integer* that appears an odd number of times.\n",
    "    \n",
    "    parameter:\n",
    "    a list of integers\n",
    "    \n",
    "    return\n",
    "    the odd appearing integer\n",
    "    '''\n",
    "    # Establish a dictionary to keep track of occurances\n",
    "    d = {}\n",
    "\n",
    "    # Iterate through the sequence to keep track of numbers\n",
    "    for x in seq:\n",
    "        if x not in d.keys():\n",
    "            d[x] = 1\n",
    "        else:\n",
    "            d[x] += 1\n",
    "\n",
    "    # Check and see which dictionary value is the odd ball out\n",
    "    for key, value in d.items():\n",
    "        if value % 2 != 0:\n",
    "            return key\n",
    "\n",
    "\n",
    "# Works!"
   ]
  },
  {
   "cell_type": "code",
   "execution_count": 5,
   "metadata": {
    "ExecuteTime": {
     "end_time": "2020-07-15T20:50:31.565808Z",
     "start_time": "2020-07-15T20:50:31.553464Z"
    }
   },
   "outputs": [],
   "source": [
    "# LeetCoding\n",
    "def findMedianSortedArrays(nums1, nums2):\n",
    "    '''\n",
    "    Combine two list of integers and find the median.\n",
    "\n",
    "    Parameters:\n",
    "    nums1: list of int (cannot be empty)\n",
    "    nums2: list of int (cannot be empty)\n",
    "    \n",
    "    Returns:\n",
    "    The median of the combined two lists\n",
    "    '''\n",
    "    # Import numpy & stats to sort and find median\n",
    "    import numpy as np\n",
    "    import statistics as st\n",
    "    \n",
    "    # Create a complete list of the two\n",
    "    x = nums1 + nums2\n",
    "    \n",
    "    # Use numpy to sort the list\n",
    "    x = np.sort(x, kind='quicksort')\n",
    "    \n",
    "    # Return the median using \n",
    "    return st.median(x)\n",
    "\n",
    "# Works!\n",
    "# Runtime: 180 ms, faster than 5.37% of Python3 online submissions for Median of Two Sorted Arrays.\n",
    "# Memory Usage: 29.4 MB, less than 5.15% of Python3 online submissions for Median of Two Sorted Arrays."
   ]
  },
  {
   "cell_type": "code",
   "execution_count": 6,
   "metadata": {
    "ExecuteTime": {
     "end_time": "2020-07-15T20:50:31.584611Z",
     "start_time": "2020-07-15T20:50:31.570741Z"
    }
   },
   "outputs": [
    {
     "data": {
      "text/plain": [
       "77"
      ]
     },
     "execution_count": 6,
     "metadata": {},
     "output_type": "execute_result"
    }
   ],
   "source": [
    "# Codewars\n",
    "def square_sum(numbers):\n",
    "    '''\n",
    "    Complete the square sum function so that it squares each number passed \n",
    "    into it and then sums the results together.\n",
    "    \n",
    "    Parameters:\n",
    "    a list of integers\n",
    "    \n",
    "    Returns:\n",
    "    A sum of all the integers in the list squared\n",
    "    '''\n",
    "#     total = 0\n",
    "#     for x in numbers:\n",
    "#         total += x**2\n",
    "#     return total\n",
    "    # Works!\n",
    "\n",
    "    # Find a faster way?\n",
    "    import numpy as  np\n",
    "    \n",
    "    # Take the sum from list comprehesion\n",
    "    return np.sum([x**2 for x in numbers])\n",
    "\n",
    "# Works!\n",
    "square_sum([4,5,6])"
   ]
  },
  {
   "cell_type": "code",
   "execution_count": 7,
   "metadata": {
    "ExecuteTime": {
     "end_time": "2020-07-15T20:50:31.612269Z",
     "start_time": "2020-07-15T20:50:31.592471Z"
    }
   },
   "outputs": [
    {
     "data": {
      "text/plain": [
       "'yeH yhw tnod uoy yrt dna od a yzarc esrever no siht'"
      ]
     },
     "execution_count": 7,
     "metadata": {},
     "output_type": "execute_result"
    }
   ],
   "source": [
    "# Codewars\n",
    "def reverse_words(text):\n",
    "    '''\n",
    "    Complete the function that accepts a string parameter, \n",
    "    and reverses each word in the string. ALL spaces in the string should be retained.\n",
    "\n",
    "    Parameters:\n",
    "    A string of text\n",
    "\n",
    "    Returns:\n",
    "    The string of text reversed\n",
    "    '''\n",
    "    # Create a list to append reversed words\n",
    "    fin = []\n",
    "    \n",
    "    # Split the text into separate words\n",
    "    words = text.split(\" \")\n",
    "    \n",
    "    # Iterate through the words to check for word length\n",
    "    for word in words:\n",
    "        \n",
    "        # If the length of the word is greater than 1, reverse the word and add it to the fin list\n",
    "        if len(word) > 1:\n",
    "            fin.append(word[::-1])\n",
    "            \n",
    "        # If the length of the word is 1, leave it alone and add it to the fin list\n",
    "        else:\n",
    "            fin.append(word)\n",
    "            \n",
    "    # Return the fin list joined together with spaces\n",
    "    return \" \".join(fin)\n",
    "# Works!    \n",
    "reverse_words(\"Hey why dont you try and do a crazy reverse on this\")"
   ]
  },
  {
   "cell_type": "code",
   "execution_count": 8,
   "metadata": {
    "ExecuteTime": {
     "end_time": "2020-07-15T20:50:31.638831Z",
     "start_time": "2020-07-15T20:50:31.616218Z"
    },
    "scrolled": true
   },
   "outputs": [
    {
     "data": {
      "text/plain": [
       "4613732"
      ]
     },
     "execution_count": 8,
     "metadata": {},
     "output_type": "execute_result"
    }
   ],
   "source": [
    "# ProjectEuler\n",
    "\n",
    "def Even_Fibonacci_numbers(end_num):\n",
    "    '''\n",
    "    By starting with 1 and 2, \n",
    "    each new term in the Fibonacci sequence is generated by adding the previous two terms.\n",
    "    \n",
    "    Return:\n",
    "    The sum of the even numbers\n",
    "    '''\n",
    "    # Fib number starts with a 1 & 2\n",
    "    start = [1, 2]\n",
    "    \n",
    "    # While loop to create a stopping point\n",
    "    while start[-1] < end_num:\n",
    "        \n",
    "        # Create a variable that is the addition of the last two spots\n",
    "        _ = start[-1] + start[-2]\n",
    "        \n",
    "        # Append the new value to the end of the list\n",
    "        start.append(_)\n",
    "    \n",
    "    # Start an accumulator\n",
    "    total = 0\n",
    "    \n",
    "    # Iterate through the new Fibonacci numbers list\n",
    "    for x in start:\n",
    "        \n",
    "        # if the number is even, add it to total\n",
    "        if x%2==0:\n",
    "            total += x\n",
    "    \n",
    "    # Return the sum of all the even numbers from the Fibonacci list\n",
    "    return total\n",
    "\n",
    "\n",
    "Even_Fibonacci_numbers(4000000)\n",
    "#Worked!"
   ]
  },
  {
   "cell_type": "code",
   "execution_count": 9,
   "metadata": {
    "ExecuteTime": {
     "end_time": "2020-07-15T20:50:31.652638Z",
     "start_time": "2020-07-15T20:50:31.642017Z"
    }
   },
   "outputs": [],
   "source": [
    "# LeetCoding\n",
    "def plusOne(digits):\n",
    "    '''\n",
    "    Parameter:\n",
    "    Digits - a non-emtpy array of positive integers. Add plus 1 to the last integer,\n",
    "    and last integer must be single digit\n",
    "    \n",
    "    Return:\n",
    "    an array of integers with the last one being single\n",
    "    '''\n",
    "    digits[-1] = digits[-1]+1\n",
    "    if digits[-1] >= 10:\n",
    "        second = digits[-1]//10\n",
    "        last = digits[-1]%10\n",
    "        digits.pop()\n",
    "        digits.append(second)\n",
    "        digits.append(last)\n",
    "        return digits\n",
    "    else:\n",
    "        return digits\n",
    "#Almost there but no quite meeting their requirements..."
   ]
  },
  {
   "cell_type": "code",
   "execution_count": 10,
   "metadata": {
    "ExecuteTime": {
     "end_time": "2020-07-15T20:50:31.671738Z",
     "start_time": "2020-07-15T20:50:31.659637Z"
    }
   },
   "outputs": [],
   "source": [
    "# CodeWars\n",
    "def descending_order(num):\n",
    "    '''\n",
    "    Your task is to make a function that can take any non-negative integer as a argument and \n",
    "    return it with its digits in descending order. Essentially, \n",
    "    rearrange the digits to create the highest possible number.\n",
    "    \n",
    "    i.e.\n",
    "    123456789 = 987654321\n",
    "    '''\n",
    "    # Create a new list of integers (that are strings)\n",
    "    num = [str(x) for x in str(num)]\n",
    "    \n",
    "    # Sort & reverse the numbers in the list\n",
    "    num.sort(reverse=True)\n",
    "    \n",
    "    # Create new fin variable that will join all the strings together\n",
    "    fin = \"\".join(num)\n",
    "    \n",
    "    # Return the integer from the fin string\n",
    "    return int(fin)\n",
    "\n",
    "#Works!"
   ]
  },
  {
   "cell_type": "code",
   "execution_count": 11,
   "metadata": {
    "ExecuteTime": {
     "end_time": "2020-07-15T20:50:31.688575Z",
     "start_time": "2020-07-15T20:50:31.675226Z"
    }
   },
   "outputs": [],
   "source": [
    "# LeetCoding\n",
    "\n",
    "def addDigits(num):\n",
    "    '''\n",
    "    Given a non-negative integer num, repeatedly add all its digits until the result has only one digit.\n",
    "    \n",
    "    Parameter:\n",
    "    non-negative integer\n",
    "    \n",
    "    Returns:\n",
    "    A single digit integer\n",
    "    '''\n",
    "    # if num >= 10, process repeats\n",
    "    while num >= 10:\n",
    "        \n",
    "        # Do a modulo & and floor divide in order to get the last two digits\n",
    "        single = num%10\n",
    "        _next = num //10\n",
    "        \n",
    "        # Add the two to get the new number\n",
    "        num = single + _next\n",
    "    \n",
    "    # Return the final single digit number\n",
    "    return num\n",
    "\n",
    "# Works!\n",
    "# Runtime: 28 ms, faster than 87.84% of Python3 online submissions for Add Digits.\n",
    "# Memory Usage: 13.6 MB, less than 96.00% of Python3 online submissions for Add Digits."
   ]
  },
  {
   "cell_type": "code",
   "execution_count": 12,
   "metadata": {
    "ExecuteTime": {
     "end_time": "2020-07-15T20:50:31.706320Z",
     "start_time": "2020-07-15T20:50:31.693026Z"
    }
   },
   "outputs": [],
   "source": [
    "# LeetCoding\n",
    "def judgeSquareSum(num):\n",
    "    '''\n",
    "    Given a non-negative integer num, \n",
    "    your task is to decide whether there're two integers a and b such that a2 + b2 = c.\n",
    "\n",
    "    Parameter:\n",
    "    An integer\n",
    "\n",
    "    Returns:\n",
    "    True or False - depending if theres two values squared that == the num \n",
    "    '''\n",
    "    import numpy as np\n",
    "    nums = np.arange(1,num+1)\n",
    "\n",
    "    lst = []\n",
    "\n",
    "    for x in nums:\n",
    "        for y in nums:\n",
    "            if (x**2 + y**2 == num) | (x**2 == num):\n",
    "                lst.append(x)\n",
    "\n",
    "    if len(lst)>0:\n",
    "        return True\n",
    "    elif num == 0:\n",
    "        return True\n",
    "    else:\n",
    "        return False\n",
    "    \n",
    "# Passed most test but is timing out on 10,000..."
   ]
  },
  {
   "cell_type": "code",
   "execution_count": 13,
   "metadata": {
    "ExecuteTime": {
     "end_time": "2020-07-15T20:50:31.718154Z",
     "start_time": "2020-07-15T20:50:31.711056Z"
    }
   },
   "outputs": [],
   "source": [
    "# LeetCoding\n",
    "\n",
    "def addStrings(num1, num2):\n",
    "    '''\n",
    "    Given two non-negative integers num1 and num2 represented as string, return the sum of num1 and num2.\n",
    "    \n",
    "    Returns:\n",
    "    A new string with the two added up \n",
    "    \n",
    "    Note:\n",
    "\n",
    "    The length of both num1 and num2 is < 5100.\n",
    "    Both num1 and num2 contains only digits 0-9.\n",
    "    Both num1 and num2 does not contain any leading zero.\n",
    "    You must not use any built-in BigInteger library or convert the inputs to integer directly.\n",
    "    \n",
    "    My approach:\n",
    "    Since we can not change the numbers to integers directly,\n",
    "    change them to floats, add them together,\n",
    "    THEN change that float to an integer to remove the .0,\n",
    "    Finally, return the summation as a string -- therefore not changing num1 & num2 directly to integers\n",
    "    '''\n",
    "    return str(int(float(num1) + float(num2)))\n",
    "\n",
    "# Should work but it's 2 off the given answer for some reason..."
   ]
  },
  {
   "cell_type": "code",
   "execution_count": 14,
   "metadata": {
    "ExecuteTime": {
     "end_time": "2020-07-15T20:50:31.730796Z",
     "start_time": "2020-07-15T20:50:31.723769Z"
    }
   },
   "outputs": [],
   "source": [
    "num1 = \"9333852702227987\"\n",
    "num2 = \"85731737104263\""
   ]
  },
  {
   "cell_type": "code",
   "execution_count": 15,
   "metadata": {
    "ExecuteTime": {
     "end_time": "2020-07-15T20:50:31.748688Z",
     "start_time": "2020-07-15T20:50:31.735023Z"
    }
   },
   "outputs": [
    {
     "data": {
      "text/plain": [
       "9419584439332250"
      ]
     },
     "execution_count": 15,
     "metadata": {},
     "output_type": "execute_result"
    }
   ],
   "source": [
    "9333852702227987 + 85731737104263"
   ]
  },
  {
   "cell_type": "code",
   "execution_count": 16,
   "metadata": {
    "ExecuteTime": {
     "end_time": "2020-07-15T20:50:31.760862Z",
     "start_time": "2020-07-15T20:50:31.752845Z"
    }
   },
   "outputs": [
    {
     "data": {
      "text/plain": [
       "9419584439332252.0"
      ]
     },
     "execution_count": 16,
     "metadata": {},
     "output_type": "execute_result"
    }
   ],
   "source": [
    "float(9333852702227987) + float(85731737104263)"
   ]
  },
  {
   "cell_type": "code",
   "execution_count": 17,
   "metadata": {
    "ExecuteTime": {
     "end_time": "2020-07-15T20:50:31.772444Z",
     "start_time": "2020-07-15T20:50:31.763966Z"
    }
   },
   "outputs": [
    {
     "data": {
      "text/plain": [
       "'9419584439332252'"
      ]
     },
     "execution_count": 17,
     "metadata": {},
     "output_type": "execute_result"
    }
   ],
   "source": [
    "addStrings(num1, num2)"
   ]
  },
  {
   "cell_type": "code",
   "execution_count": 46,
   "metadata": {
    "ExecuteTime": {
     "end_time": "2020-07-15T21:07:47.192138Z",
     "start_time": "2020-07-15T21:07:47.186548Z"
    }
   },
   "outputs": [],
   "source": [
    "def twoSum(nums, target):\n",
    "    '''\n",
    "    Given an array of integers, return indices of the two numbers such that they add up to a specific target.\n",
    "\n",
    "    You may assume that each input would have exactly one solution, and you may not use the same element twice.\n",
    "    \n",
    "    Parameters:\n",
    "    nums - list of integers\n",
    "    target - integer where two values from nums add to this value\n",
    "    '''\n",
    "    d = {}\n",
    "\n",
    "    for idx, num in enumerate(nums):\n",
    "        y = target - num\n",
    "        \n",
    "        if y not in d:\n",
    "            d[num] = idx\n",
    "        else:\n",
    "            return d[y], \n",
    "\n",
    "# Works!\n",
    "# Runtime: 56 ms, faster than 54.65% of Python3 online submissions for Two Sum.\n",
    "# Memory Usage: 15.3 MB, less than 27.48% of Python3 online submissions for Two Sum."
   ]
  },
  {
   "cell_type": "code",
   "execution_count": null,
   "metadata": {},
   "outputs": [],
   "source": []
  }
 ],
 "metadata": {
  "kernelspec": {
   "display_name": "Python 3",
   "language": "python",
   "name": "python3"
  },
  "language_info": {
   "codemirror_mode": {
    "name": "ipython",
    "version": 3
   },
   "file_extension": ".py",
   "mimetype": "text/x-python",
   "name": "python",
   "nbconvert_exporter": "python",
   "pygments_lexer": "ipython3",
   "version": "3.7.7"
  }
 },
 "nbformat": 4,
 "nbformat_minor": 4
}
