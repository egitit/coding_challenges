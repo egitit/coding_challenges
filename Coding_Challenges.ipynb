{
 "cells": [
  {
   "cell_type": "code",
   "execution_count": 1,
   "metadata": {
    "ExecuteTime": {
     "end_time": "2020-06-18T00:20:14.708171Z",
     "start_time": "2020-06-18T00:20:12.288789Z"
    }
   },
   "outputs": [],
   "source": [
    "import pandas as pd\n",
    "import numpy as np\n",
    "import matplotlib.pyplot as plt\n",
    "import seaborn as sns\n",
    "sns.set()\n",
    "%matplotlib inline"
   ]
  },
  {
   "cell_type": "code",
   "execution_count": 2,
   "metadata": {
    "ExecuteTime": {
     "end_time": "2020-06-18T00:20:14.720972Z",
     "start_time": "2020-06-18T00:20:14.710706Z"
    }
   },
   "outputs": [],
   "source": [
    "# Codewars challenge\n",
    "def make_readable(seconds):\n",
    "    '''\n",
    "    Write a function, which takes a non-negative integer (seconds) \n",
    "    as input and returns the time in a human-readable (string) format (HH:MM:SS)\n",
    "\n",
    "    HH = hours, padded to 2 digits, range: 00 - 99\n",
    "    MM = minutes, padded to 2 digits, range: 00 - 59\n",
    "    SS = seconds, padded to 2 digits, range: 00 - 59\n",
    "    The maximum time never exceeds 359999 (99:59:59)\n",
    "    \n",
    "    ex: make_readable(86399)\n",
    "    returns \"23:59:59\"\n",
    "    '''\n",
    "    # First, create hours, minutes, and seconds variables to work with\n",
    "    total = seconds\n",
    "    hours = 0\n",
    "    minutes = 0\n",
    "    \n",
    "    # First, address edge case. i.e. seconds cannot be larger than 359999 in order for this function to work\n",
    "    if seconds <= 359999:\n",
    "        \n",
    "        # Second, use up the seconds to create as many minutes as possible\n",
    "        while total > 59:\n",
    "            total -= 60\n",
    "            minutes += 1\n",
    "            \n",
    "            # Third, if there are more than 60 minutes, create as many hours as possible\n",
    "            if minutes > 59:\n",
    "                minutes -= 60\n",
    "                hours += 1\n",
    "        \n",
    "        # Ultimately, return hours, minutes, and seconds in a string format, wwhich INCLUDES 0's for single digits\n",
    "        # i.e. 65 seconds return \"00:01:05\"\n",
    "        return \"{:02d}:{:02d}:{:02d}\".format(hours, minutes, total)\n",
    "    else:\n",
    "        return \"Too many seconds for this to work!\"\n",
    "    \n",
    "# Passed all tests"
   ]
  },
  {
   "cell_type": "code",
   "execution_count": 3,
   "metadata": {
    "ExecuteTime": {
     "end_time": "2020-06-18T00:20:14.734472Z",
     "start_time": "2020-06-18T00:20:14.726003Z"
    }
   },
   "outputs": [],
   "source": [
    "# LeetCoding\n",
    "def two_sum(nums, target):\n",
    "    '''\n",
    "    Given an array of integers, return indices of the two numbers such that they add up to a specific target.\n",
    "\n",
    "    You may assume that each input would have exactly one solution, and you may not use the same element twice.\n",
    "    \n",
    "    parameters:\n",
    "    array - a list of integers\n",
    "    target - the value to add up to\n",
    "    '''\n",
    "    d = {}\n",
    "    for idx, num in enumerate(nums):\n",
    "        d[idx] = num\n",
    "    \n",
    "    for x, value in d.items():\n",
    "        for y, value2 in d.items():\n",
    "            if (d[x] + d[y] == target) & (x != y):\n",
    "                return [x, y]\n",
    "# Works, but won't register on Leetcode... "
   ]
  },
  {
   "cell_type": "code",
   "execution_count": 4,
   "metadata": {
    "ExecuteTime": {
     "end_time": "2020-06-18T00:20:14.755586Z",
     "start_time": "2020-06-18T00:20:14.737119Z"
    }
   },
   "outputs": [],
   "source": [
    "def find_it(seq):\n",
    "    '''\n",
    "    Given an array, find the integer that appears an odd number of times.\n",
    "\n",
    "    There will always be only *one integer* that appears an odd number of times.\n",
    "    \n",
    "    parameter:\n",
    "    a list of integers\n",
    "    \n",
    "    return\n",
    "    the odd appearing integer\n",
    "    '''\n",
    "    d = {}\n",
    "    for x in seq:\n",
    "        if x not in d.keys():\n",
    "            d[x] = 1\n",
    "        else:\n",
    "            d[x] += 1\n",
    "    \n",
    "    for key, value in d.items():\n",
    "        if value % 2 != 0:\n",
    "            return key"
   ]
  },
  {
   "cell_type": "code",
   "execution_count": 6,
   "metadata": {
    "ExecuteTime": {
     "end_time": "2020-06-18T00:21:34.779846Z",
     "start_time": "2020-06-18T00:21:34.774566Z"
    }
   },
   "outputs": [],
   "source": [
    "def findMedianSortedArrays(nums1, nums2):\n",
    "    '''\n",
    "    There are two sorted arrays nums1 and nums2 of size m and n respectively.\n",
    "\n",
    "    Parameters:\n",
    "    nums1: list of int (cannot be empty)\n",
    "    nums2: list of int (cannot be empty)\n",
    "    '''\n",
    "    import numpy as np\n",
    "    import statistics as st\n",
    "    x = nums1 + nums2\n",
    "    x = np.sort(x, kind='quicksort')\n",
    "    return st.median(x)"
   ]
  },
  {
   "cell_type": "code",
   "execution_count": null,
   "metadata": {},
   "outputs": [],
   "source": []
  }
 ],
 "metadata": {
  "kernelspec": {
   "display_name": "Python 3",
   "language": "python",
   "name": "python3"
  },
  "language_info": {
   "codemirror_mode": {
    "name": "ipython",
    "version": 3
   },
   "file_extension": ".py",
   "mimetype": "text/x-python",
   "name": "python",
   "nbconvert_exporter": "python",
   "pygments_lexer": "ipython3",
   "version": "3.7.7"
  }
 },
 "nbformat": 4,
 "nbformat_minor": 4
}
